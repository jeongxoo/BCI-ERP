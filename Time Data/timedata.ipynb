{
 "cells": [
  {
   "cell_type": "code",
   "execution_count": 130,
   "metadata": {},
   "outputs": [],
   "source": [
    "import pandas as pd\n",
    "import json"
   ]
  },
  {
   "cell_type": "code",
   "execution_count": 1,
   "metadata": {},
   "outputs": [
    {
     "ename": "NameError",
     "evalue": "name 'pd' is not defined",
     "output_type": "error",
     "traceback": [
      "\u001b[0;31m---------------------------------------------------------------------------\u001b[0m",
      "\u001b[0;31mNameError\u001b[0m                                 Traceback (most recent call last)",
      "\u001b[0;32m<ipython-input-1-74fd80375d97>\u001b[0m in \u001b[0;36m<module>\u001b[0;34m\u001b[0m\n\u001b[0;32m----> 1\u001b[0;31m \u001b[0mtemp\u001b[0m \u001b[0;34m=\u001b[0m \u001b[0mpd\u001b[0m\u001b[0;34m.\u001b[0m\u001b[0mread_csv\u001b[0m\u001b[0;34m(\u001b[0m\u001b[0;34m'0606_민재/Rawdata5.txt'\u001b[0m\u001b[0;34m,\u001b[0m\u001b[0mdelimiter\u001b[0m\u001b[0;34m=\u001b[0m\u001b[0;34m'\\t'\u001b[0m\u001b[0;34m,\u001b[0m\u001b[0mencoding\u001b[0m\u001b[0;34m=\u001b[0m\u001b[0;34m'cp949'\u001b[0m\u001b[0;34m)\u001b[0m\u001b[0;34m\u001b[0m\u001b[0;34m\u001b[0m\u001b[0m\n\u001b[0m\u001b[1;32m      2\u001b[0m \u001b[0mt_fp1\u001b[0m \u001b[0;34m=\u001b[0m \u001b[0mtemp\u001b[0m\u001b[0;34m[\u001b[0m\u001b[0;34m'Time'\u001b[0m\u001b[0;34m]\u001b[0m\u001b[0;34m\u001b[0m\u001b[0;34m\u001b[0m\u001b[0m\n\u001b[1;32m      3\u001b[0m \u001b[0mt_fp1\u001b[0m\u001b[0;34m\u001b[0m\u001b[0;34m\u001b[0m\u001b[0m\n",
      "\u001b[0;31mNameError\u001b[0m: name 'pd' is not defined"
     ]
    }
   ],
   "source": [
    "temp = pd.read_csv('0606_민재/Rawdata5.txt',delimiter='\\t',encoding='cp949')\n",
    "t_fp1 = temp['Time']\n",
    "t_fp1"
   ]
  },
  {
   "cell_type": "code",
   "execution_count": 116,
   "metadata": {
    "scrolled": true
   },
   "outputs": [
    {
     "name": "stdout",
     "output_type": "stream",
     "text": [
      "{\n",
      "\t\"realTime\": \"2021-06-06 19:21:54.020 PM\",\n",
      "\t\"peekTime\": [\n",
      "\t\t\"2021-06-06 19:21:54.024 PM\",\n",
      "\t\t\"2021-06-06 19:21:59.799 PM\",\n",
      "\t\t\"2021-06-06 19:22:01.731 PM\",\n",
      "\t\t\"2021-06-06 19:22:03.631 PM\",\n",
      "\t\t\"2021-06-06 19:22:05.547 PM\",\n",
      "\t\t\"2021-06-06 19:22:09.415 PM\",\n",
      "\t\t\"2021-06-06 19:22:11.319 PM\",\n",
      "\t\t\"2021-06-06 19:22:13.231 PM\",\n",
      "\t\t\"2021-06-06 19:22:15.147 PM\",\n",
      "\t\t\"2021-06-06 19:22:17.099 PM\",\n",
      "\t\t\"2021-06-06 19:22:22.851 PM\",\n",
      "\t\t\"2021-06-06 19:22:24.783 PM\",\n",
      "\t\t\"\",\n",
      "\t\t\"\",\n",
      "\t\t\"\",\n",
      "\t\t\"\",\n",
      "\t\t\"\",\n",
      "\t\t\"\",\n",
      "\t\t\"\",\n",
      "\t\t\"\",\n",
      "\t\t\"\",\n",
      "\t\t\"\",\n",
      "\t\t\"\",\n",
      "\t\t\"\",\n",
      "\t\t\"\",\n",
      "\t\t\"\",\n",
      "\t\t\"\",\n",
      "\t\t\"\",\n",
      "\t\t\"\",\n",
      "\t\t\"\",\n",
      "\t\t\"\",\n",
      "\t\t\"\",\n",
      "\t\t\"\",\n",
      "\t\t\"\",\n",
      "\t\t\"\",\n",
      "\t\t\"\",\n",
      "\t\t\"\",\n",
      "\t\t\"\",\n",
      "\t\t\"\",\n",
      "\t\t\"\",\n",
      "\t\t\"\",\n",
      "\t\t\"\",\n",
      "\t\t\"\",\n",
      "\t\t\"\",\n",
      "\t\t\"\",\n",
      "\t\t\"\",\n",
      "\t\t\"\",\n",
      "\t\t\"\",\n",
      "\t\t\"\",\n",
      "\t\t\"\"\n",
      "\t]\n",
      "}\n"
     ]
    }
   ],
   "source": [
    "with open('박민재 time/5.json', 'r') as f:\n",
    "    json_data = json.load(f)\n",
    "\n",
    "print(json.dumps(json_data, indent=\"\\t\") )"
   ]
  },
  {
   "cell_type": "code",
   "execution_count": 117,
   "metadata": {},
   "outputs": [
    {
     "name": "stdout",
     "output_type": "stream",
     "text": [
      "['2021-06-06 19:21:54.024 PM', '2021-06-06 19:21:59.799 PM', '2021-06-06 19:22:01.731 PM', '2021-06-06 19:22:03.631 PM', '2021-06-06 19:22:05.547 PM', '2021-06-06 19:22:09.415 PM', '2021-06-06 19:22:11.319 PM', '2021-06-06 19:22:13.231 PM', '2021-06-06 19:22:15.147 PM', '2021-06-06 19:22:17.099 PM', '2021-06-06 19:22:22.851 PM', '2021-06-06 19:22:24.783 PM', '', '', '', '', '', '', '', '', '', '', '', '', '', '', '', '', '', '', '', '', '', '', '', '', '', '', '', '', '', '', '', '', '', '', '', '', '', '']\n"
     ]
    }
   ],
   "source": [
    "print(json_data['peekTime'])\n",
    "n_json_data = []\n",
    "for i in json_data['peekTime']:\n",
    "    if i != '':\n",
    "        n_json_data.append(i)"
   ]
  },
  {
   "cell_type": "code",
   "execution_count": 118,
   "metadata": {},
   "outputs": [
    {
     "name": "stdout",
     "output_type": "stream",
     "text": [
      "['2021-06-06 19:21:54.024 PM', '2021-06-06 19:21:59.799 PM', '2021-06-06 19:22:01.731 PM', '2021-06-06 19:22:03.631 PM', '2021-06-06 19:22:05.547 PM', '2021-06-06 19:22:09.415 PM', '2021-06-06 19:22:11.319 PM', '2021-06-06 19:22:13.231 PM', '2021-06-06 19:22:15.147 PM', '2021-06-06 19:22:17.099 PM', '2021-06-06 19:22:22.851 PM', '2021-06-06 19:22:24.783 PM']\n"
     ]
    }
   ],
   "source": [
    "print(n_json_data)"
   ]
  },
  {
   "cell_type": "code",
   "execution_count": 119,
   "metadata": {},
   "outputs": [
    {
     "name": "stdout",
     "output_type": "stream",
     "text": [
      "15\n",
      "0       오후 7:21:54.133 \n",
      "1       오후 7:21:54.133 \n",
      "2       오후 7:21:54.137 \n",
      "3       오후 7:21:54.137 \n",
      "4       오후 7:21:54.168 \n",
      "             ...       \n",
      "3843    오후 7:22:24.099 \n",
      "3844    오후 7:22:24.101 \n",
      "3845    오후 7:22:24.101 \n",
      "3846    오후 7:22:24.127 \n",
      "3847    오후 7:22:24.127 \n",
      "Name: Time, Length: 3848, dtype: object\n"
     ]
    }
   ],
   "source": [
    "print(len(t_fp1[0]))\n",
    "print(t_fp1)"
   ]
  },
  {
   "cell_type": "code",
   "execution_count": 131,
   "metadata": {
    "scrolled": false
   },
   "outputs": [],
   "source": [
    "def slice_json(json_data):\n",
    "    ans1 = []\n",
    "    ans2 = []\n",
    "\n",
    "    for i in json_data:\n",
    "        print(Slicing_Json_Time(i))\n",
    "        a = Slicing_Json_Time(i)[:6]\n",
    "        b = Slicing_Json_Time(i)[6:]\n",
    "        c = float(b) - 0.2\n",
    "        d = float(b) + 1\n",
    "    #     print(a)\n",
    "    #     print(c,d)\n",
    "\n",
    "        if c < 10:\n",
    "            c = format(c, \".3f\")\n",
    "            x = a + '0' + str(c)\n",
    "        else:\n",
    "            c = format(c, \".3f\")\n",
    "            x = a + str(c)\n",
    "\n",
    "        if d < 10:\n",
    "            d = format(d, \".3f\")\n",
    "            y = a + '0' + str(d)\n",
    "        else:\n",
    "            d = format(d, \".3f\")\n",
    "            y = a + str(d)\n",
    "\n",
    "        print(x)\n",
    "        print(y)\n",
    "        print('------------')\n",
    "\n",
    "        ans1.append(x)\n",
    "        ans2.append(y)\n",
    "    return ans1, ans2"
   ]
  },
  {
   "cell_type": "code",
   "execution_count": 121,
   "metadata": {
    "scrolled": false
   },
   "outputs": [
    {
     "name": "stdout",
     "output_type": "stream",
     "text": [
      "['19:21:53.824', '19:21:59.599', '19:22:01.531', '19:22:03.431', '19:22:05.347', '19:22:09.215', '19:22:11.119', '19:22:13.031', '19:22:14.947', '19:22:16.899', '19:22:22.651', '19:22:24.583']\n",
      "['19:21:55.024', '19:21:60.799', '19:22:02.731', '19:22:04.631', '19:22:06.547', '19:22:10.415', '19:22:12.319', '19:22:14.231', '19:22:16.147', '19:22:18.099', '19:22:23.851', '19:22:25.783']\n"
     ]
    }
   ],
   "source": [
    "print(ans1)\n",
    "print(ans2)"
   ]
  },
  {
   "cell_type": "code",
   "execution_count": 129,
   "metadata": {},
   "outputs": [
    {
     "name": "stdout",
     "output_type": "stream",
     "text": [
      "go :: 891\n",
      "to :: 1037\n",
      "diff :: 146\n",
      "------------\n",
      "go :: 1095\n",
      "to :: 1263\n",
      "diff :: 168\n",
      "------------\n",
      "go :: 1337\n",
      "to :: 1493\n",
      "diff :: 156\n",
      "------------\n",
      "go :: 1853\n",
      "to :: 2005\n",
      "diff :: 152\n",
      "------------\n",
      "go :: 2097\n",
      "to :: 2253\n",
      "diff :: 156\n",
      "------------\n",
      "go :: 2341\n",
      "to :: 2509\n",
      "diff :: 168\n",
      "------------\n",
      "go :: 2607\n",
      "to :: 2773\n",
      "diff :: 166\n",
      "------------\n",
      "go :: 2859\n",
      "to :: 3027\n",
      "diff :: 168\n",
      "------------\n",
      "go :: 3649\n",
      "to :: 3811\n",
      "diff :: 162\n",
      "------------\n",
      "131.0909090909091\n"
     ]
    }
   ],
   "source": [
    "left = 0\n",
    "st = 2\n",
    "v = 11\n",
    "for i in range(st,v):\n",
    "    q = Loop_For_Checking_Time(ans1[i], t_fp1.values)\n",
    "    w = Loop_For_Checking_Time(ans2[i], t_fp1.values)\n",
    "    print('go :: %d' %q)\n",
    "    print('to :: %d' %w)\n",
    "    print('diff :: %d' %(w - q))\n",
    "    left += w - q\n",
    "    print('------------')\n",
    "\n",
    "print(left/v)\n",
    "# print(Loop_For_Checking_Time(js, t_fp1.values))\n",
    "# print(Loop_For_Checking_Time(js2, t_fp1.values))\n",
    "# a = Loop_For_Checking_Time(js2, t_fp1.values) - Loop_For_Checking_Time(js, t_fp1.values)\n",
    "# print(a)\n",
    "\n",
    "# b += a"
   ]
  },
  {
   "cell_type": "code",
   "execution_count": 10,
   "metadata": {},
   "outputs": [],
   "source": [
    "def Slicing_Mave_Time(time):\n",
    "    if time[:2] == '오전':\n",
    "        n_time = time[3:]\n",
    "    else:\n",
    "        if time[3:5] == '12':\n",
    "            n_time = time[3:-1]\n",
    "        else:\n",
    "            hour = int(time[3:4]) + 12\n",
    "            n_time = str(hour) + time[4:-1]\n",
    "    \n",
    "    return n_time"
   ]
  },
  {
   "cell_type": "code",
   "execution_count": 11,
   "metadata": {},
   "outputs": [],
   "source": [
    "def Slicing_Json_Time(time):\n",
    "    return time[11:-3]"
   ]
  },
  {
   "cell_type": "code",
   "execution_count": 12,
   "metadata": {},
   "outputs": [],
   "source": [
    "def Compare_Json_Mave(json_t, mave_t):\n",
    "    if len(json_t) != len(mave_t):\n",
    "        return False\n",
    "    else:\n",
    "        for i in range(len(json_t)):\n",
    "            if json_t[i] != mave_t[i]:\n",
    "                return False\n",
    "            else:\n",
    "                if i == len(json_t) - 3:\n",
    "                    return True"
   ]
  },
  {
   "cell_type": "code",
   "execution_count": 13,
   "metadata": {},
   "outputs": [],
   "source": [
    "def Loop_For_Checking_Time(json, mave):\n",
    "#     n_json = Slicing_Json_Time(json)\n",
    "#     print(len(n_json))\n",
    "    n_json = json\n",
    "    check = False\n",
    "    n = 0\n",
    "    \n",
    "    while(check == False):\n",
    "        n -= 1\n",
    "        n_mave = Slicing_Mave_Time(mave[n])\n",
    "#         print(len(n_mave))\n",
    "        check = Compare_Json_Mave(n_json, n_mave)\n",
    "        \n",
    "    n = n + len(mave)\n",
    "    return n"
   ]
  },
  {
   "cell_type": "code",
   "execution_count": 71,
   "metadata": {},
   "outputs": [
    {
     "name": "stdout",
     "output_type": "stream",
     "text": [
      "4413\n",
      "4707\n"
     ]
    }
   ],
   "source": [
    "print(Loop_For_Checking_Time(js, t_fp1.values))\n",
    "print(Loop_For_Checking_Time(js2, t_fp1.values))"
   ]
  },
  {
   "cell_type": "code",
   "execution_count": null,
   "metadata": {},
   "outputs": [],
   "source": []
  }
 ],
 "metadata": {
  "kernelspec": {
   "display_name": "Python 3",
   "language": "python",
   "name": "python3"
  },
  "language_info": {
   "codemirror_mode": {
    "name": "ipython",
    "version": 3
   },
   "file_extension": ".py",
   "mimetype": "text/x-python",
   "name": "python",
   "nbconvert_exporter": "python",
   "pygments_lexer": "ipython3",
   "version": "3.8.5"
  }
 },
 "nbformat": 4,
 "nbformat_minor": 4
}
