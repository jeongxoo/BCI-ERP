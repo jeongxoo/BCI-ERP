{
 "cells": [
  {
   "cell_type": "code",
   "execution_count": 5,
   "metadata": {},
   "outputs": [],
   "source": [
    "def erase_empty_json(json):\n",
    "    n_json = []\n",
    "    for i in json['peekTime']:\n",
    "        if i != '':\n",
    "            n_json.append(i)\n",
    "            \n",
    "    return n_json"
   ]
  },
  {
   "cell_type": "code",
   "execution_count": 6,
   "metadata": {},
   "outputs": [],
   "source": [
    "def Slicing_Mave_Time(time):\n",
    "    if time[:2] == '오전':\n",
    "        n_time = time[3:]\n",
    "    else:\n",
    "        if time[3:5] == '12':\n",
    "            n_time = time[3:-1]\n",
    "        else:\n",
    "            hour = int(time[3:4]) + 12\n",
    "            n_time = str(hour) + time[4:-1]\n",
    "    \n",
    "    return n_time"
   ]
  },
  {
   "cell_type": "code",
   "execution_count": 7,
   "metadata": {},
   "outputs": [],
   "source": [
    "def Slicing_Json_Time(time):\n",
    "    return time[11:-3]"
   ]
  },
  {
   "cell_type": "code",
   "execution_count": 8,
   "metadata": {
    "scrolled": false
   },
   "outputs": [],
   "source": [
    "def slice_json(json_data):\n",
    "    ans1 = []\n",
    "    ans2 = []\n",
    "\n",
    "    for i in json_data:\n",
    "        a = Slicing_Json_Time(i)[:6]\n",
    "        b = Slicing_Json_Time(i)[6:]\n",
    "        c = float(b) - 0.2\n",
    "        d = float(b) + 1\n",
    "    #     print(a)\n",
    "    #     print(c,d)\n",
    "\n",
    "        if c < 10:\n",
    "            c = format(c, \".3f\")\n",
    "            x = a + '0' + str(c)\n",
    "        else:\n",
    "            c = format(c, \".3f\")\n",
    "            x = a + str(c)\n",
    "\n",
    "        if d < 10:\n",
    "            d = format(d, \".3f\")\n",
    "            y = a + '0' + str(d)\n",
    "        else:\n",
    "            d = format(d, \".3f\")\n",
    "            y = a + str(d)\n",
    "\n",
    "#         print(x)\n",
    "#         print(y)\n",
    "#         print('------------')\n",
    "\n",
    "        ans1.append(x)\n",
    "        ans2.append(y)\n",
    "    return ans1, ans2"
   ]
  },
  {
   "cell_type": "code",
   "execution_count": 9,
   "metadata": {},
   "outputs": [],
   "source": [
    "def slice_last_json(json_data):\n",
    "#     ans1 = []\n",
    "#     ans2 = []\n",
    "\n",
    "    a = Slicing_Json_Time(i)[:6]\n",
    "    b = Slicing_Json_Time(i)[6:]\n",
    "    \n",
    "    c = float(b)\n",
    "    d = float(b) + 1\n",
    "#     print(a)\n",
    "#     print(c,d)\n",
    "\n",
    "    if c < 10 and c >= 0:\n",
    "        c = format(c, \".3f\")\n",
    "        x = a + '0' + str(c)\n",
    "    elif c < 0:\n",
    "        # 분이 바뀌는 경우\n",
    "        print(c)\n",
    "    else:\n",
    "        c = format(c, \".3f\")\n",
    "        x = a + str(c)\n",
    "\n",
    "    if d < 10:\n",
    "        d = format(d, \".3f\")\n",
    "        y = a + '0' + str(d)\n",
    "    elif c >= 60:\n",
    "        print(d)\n",
    "    else:\n",
    "        d = format(d, \".3f\")\n",
    "        y = a + str(d)\n",
    "\n",
    "#     print(x)\n",
    "#     print(y)\n",
    "#     print('------------')\n",
    "\n",
    "    ans1 = x\n",
    "    ans2 = y\n",
    "    return ans1, ans2"
   ]
  },
  {
   "cell_type": "code",
   "execution_count": 17,
   "metadata": {},
   "outputs": [],
   "source": [
    "def slice_json_to04(json_data):\n",
    "    ans1 = []\n",
    "    ans2 = []\n",
    "\n",
    "    for i in json_data:\n",
    "        print(i)\n",
    "        a = Slicing_Json_Time(i)[:6]\n",
    "        b = Slicing_Json_Time(i)[6:]\n",
    "#         print(a)\n",
    "#         print(b)\n",
    "        c = float(b)\n",
    "        d = float(b) + 0.4\n",
    "        \n",
    "        e = Slicing_Json_Time(i)[:3]\n",
    "        f = Slicing_Json_Time(i)[3:5]\n",
    "        g = int(f) + 1\n",
    "        \n",
    "    #     print(a)\n",
    "    #     print(c,d)\n",
    "\n",
    "        if c < 10:\n",
    "            c = format(c, \".3f\")\n",
    "            x = a + '0' + str(c)\n",
    "        else:\n",
    "            c = format(c, \".3f\")\n",
    "            x = a + str(c)\n",
    "\n",
    "        if d < 10:\n",
    "            d = format(d, \".3f\")\n",
    "            y = a + '0' + str(d)\n",
    "        elif d >= 60:\n",
    "            d = d - 60.0\n",
    "            d = format(d, \".3f\")\n",
    "            d = '0' + str(d)\n",
    "            y = e + str(g) + ':' + d\n",
    "        else:\n",
    "            d = format(d, \".3f\")\n",
    "            y = a + str(d)\n",
    "\n",
    "#         print(x)\n",
    "#         print(y)\n",
    "#         print('------------')\n",
    "\n",
    "        ans1.append(x)\n",
    "        ans2.append(y)\n",
    "    return ans1, ans2"
   ]
  },
  {
   "cell_type": "code",
   "execution_count": 35,
   "metadata": {},
   "outputs": [],
   "source": [
    "def slice_json_n200_p300(json_data):\n",
    "    a = Slicing_Json_Time(json_data)[:6]\n",
    "    b = Slicing_Json_Time(json_data)[6:]\n",
    "    c = float(b) + 0.15\n",
    "    d = float(b) + 0.25\n",
    "    h = float(b) + 0.35\n",
    "        \n",
    "    e = Slicing_Json_Time(json_data)[:3]\n",
    "    f = Slicing_Json_Time(json_data)[3:5]\n",
    "    g = int(f) + 1\n",
    "\n",
    "    if c < 10:\n",
    "        c = format(c, \".3f\")\n",
    "        x = a + '0' + str(c)\n",
    "    elif c >= 60:\n",
    "        c = c - 60.0\n",
    "        c = format(c, \".3f\")\n",
    "        c = '0' + str(c)\n",
    "        x = e + str(g) + ':' + c\n",
    "    else:\n",
    "        c = format(c, \".3f\")\n",
    "        x = a + str(c)\n",
    "\n",
    "\n",
    "    if d < 10:\n",
    "        d = format(d, \".3f\")\n",
    "        y = a + '0' + str(d)\n",
    "    elif d >= 60:\n",
    "        d = d - 60.0\n",
    "        d = format(d, \".3f\")\n",
    "        d = '0' + str(d)\n",
    "        y = e + str(g) + ':' + d\n",
    "    else:\n",
    "        d = format(d, \".3f\")\n",
    "        y = a + str(d)\n",
    "         \n",
    "    if h < 10:\n",
    "        h = format(h, \".3f\")\n",
    "        z = a + '0' + str(h)\n",
    "    elif h >= 60:\n",
    "        h = h - 60.0\n",
    "        h = format(h, \".3f\")\n",
    "        h = '0' + str(h)\n",
    "        z = e + str(g) + ':' + h\n",
    "    else:\n",
    "        h = format(h, \".3f\")\n",
    "        z = a + str(h)\n",
    "    \n",
    "    return x, y, z"
   ]
  },
  {
   "cell_type": "code",
   "execution_count": 20,
   "metadata": {},
   "outputs": [],
   "source": [
    "def Compare_Json_Mave(json_t, mave_t):\n",
    "    if len(json_t) != len(mave_t):\n",
    "        return False\n",
    "    else:\n",
    "        for i in range(len(json_t)):\n",
    "            if json_t[i] != mave_t[i]:\n",
    "                return False\n",
    "            else:\n",
    "                if i == len(json_t) - 3:\n",
    "                    return True"
   ]
  },
  {
   "cell_type": "code",
   "execution_count": 21,
   "metadata": {},
   "outputs": [],
   "source": [
    "def Loop_For_Checking_Time(json, mave):\n",
    "#     n_json = Slicing_Json_Time(json)\n",
    "#     print(len(n_json))\n",
    "    n_json = json\n",
    "    check = False\n",
    "    n = 0\n",
    "    \n",
    "    while(check == False):\n",
    "        n -= 1\n",
    "        n_mave = Slicing_Mave_Time(mave[n])\n",
    "#         print(len(n_mave))\n",
    "        check = Compare_Json_Mave(n_json, n_mave)\n",
    "        \n",
    "    n = n + len(mave)\n",
    "    return n"
   ]
  },
  {
   "cell_type": "code",
   "execution_count": 22,
   "metadata": {},
   "outputs": [],
   "source": [
    "def loop_for_time(start, end, json_start, json_end, raw_time):\n",
    "    left = 0\n",
    "    ans = [[],[]]\n",
    "    for i in range(start,end):\n",
    "        q = Loop_For_Checking_Time(json_start[i], raw_time.values)\n",
    "        w = Loop_For_Checking_Time(json_end[i], raw_time.values)\n",
    "        left += w - q\n",
    "        ans[0].append(q)\n",
    "        ans[1].append(w)\n",
    "        print('------------')\n",
    "        \n",
    "    \n",
    "    return ans, left/len(ans[0])"
   ]
  },
  {
   "cell_type": "code",
   "execution_count": 33,
   "metadata": {},
   "outputs": [],
   "source": [
    "aaa = '2021-06-13 19:56:59.990 PM'"
   ]
  },
  {
   "cell_type": "code",
   "execution_count": 36,
   "metadata": {},
   "outputs": [
    {
     "data": {
      "text/plain": [
       "('19:57:00.140', '19:57:00.240', '19:57:00.340')"
      ]
     },
     "execution_count": 36,
     "metadata": {},
     "output_type": "execute_result"
    }
   ],
   "source": [
    "slice_json_n200_p300(aaa)"
   ]
  },
  {
   "cell_type": "code",
   "execution_count": null,
   "metadata": {},
   "outputs": [],
   "source": []
  }
 ],
 "metadata": {
  "kernelspec": {
   "display_name": "Python 3",
   "language": "python",
   "name": "python3"
  },
  "language_info": {
   "codemirror_mode": {
    "name": "ipython",
    "version": 3
   },
   "file_extension": ".py",
   "mimetype": "text/x-python",
   "name": "python",
   "nbconvert_exporter": "python",
   "pygments_lexer": "ipython3",
   "version": "3.8.5"
  }
 },
 "nbformat": 4,
 "nbformat_minor": 4
}
